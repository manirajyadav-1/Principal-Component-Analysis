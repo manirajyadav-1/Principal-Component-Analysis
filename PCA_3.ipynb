{
  "nbformat": 4,
  "nbformat_minor": 0,
  "metadata": {
    "colab": {
      "provenance": []
    },
    "kernelspec": {
      "name": "python3",
      "display_name": "Python 3"
    },
    "language_info": {
      "name": "python"
    }
  },
  "cells": [
    {
      "cell_type": "code",
      "execution_count": 1,
      "metadata": {
        "id": "RTBqXirb8XZr"
      },
      "outputs": [],
      "source": [
        "from sklearn.datasets import load_wine\n",
        "from sklearn.model_selection import train_test_split\n",
        "import matplotlib.pyplot as plt\n",
        "# Load Wine dataset\n",
        "data = load_wine()\n",
        "X, y = data.data, data.target\n"
      ]
    },
    {
      "cell_type": "code",
      "source": [
        "# Split into training (70%) and testing (30%) sets\n",
        "X_train, X_test, y_train, y_test = train_test_split(X, y, test_size=0.3, random_state=42)"
      ],
      "metadata": {
        "id": "t05o5YWJ8c14"
      },
      "execution_count": 2,
      "outputs": []
    },
    {
      "cell_type": "markdown",
      "source": [
        "Baseline Model (No PCA):"
      ],
      "metadata": {
        "id": "d4UmJd3L8n-x"
      }
    },
    {
      "cell_type": "code",
      "source": [
        "from sklearn.linear_model import LogisticRegression\n",
        "from sklearn.metrics import accuracy_score, precision_score, recall_score\n",
        "\n",
        "# Train Logistic Regression model\n",
        "model = LogisticRegression(max_iter=10000)\n",
        "model.fit(X_train, y_train)\n",
        "\n",
        "# Predict and evaluate\n",
        "y_pred = model.predict(X_test)\n",
        "accuracy = accuracy_score(y_test, y_pred)\n",
        "precision = precision_score(y_test, y_pred, average='weighted')\n",
        "recall = recall_score(y_test, y_pred, average='weighted')\n",
        "\n",
        "print(f\"Baseline Accuracy: {accuracy}\")\n",
        "print(f\"Baseline Precision: {precision}\")\n",
        "print(f\"Baseline Recall: {recall}\")"
      ],
      "metadata": {
        "colab": {
          "base_uri": "https://localhost:8080/"
        },
        "id": "1D7PnrzD8jKm",
        "outputId": "5ce71fcf-e86f-4dc3-88c5-abd058eda8cd"
      },
      "execution_count": 3,
      "outputs": [
        {
          "output_type": "stream",
          "name": "stdout",
          "text": [
            "Baseline Accuracy: 1.0\n",
            "Baseline Precision: 1.0\n",
            "Baseline Recall: 1.0\n"
          ]
        }
      ]
    },
    {
      "cell_type": "markdown",
      "source": [
        "Apply PCA:"
      ],
      "metadata": {
        "id": "T4W4riAs8v-l"
      }
    },
    {
      "cell_type": "code",
      "source": [
        "from sklearn.decomposition import PCA\n",
        "\n",
        "# Apply PCA with different numbers of components\n",
        "n_components = [2, 5, 10]\n",
        "X_train_pca_list = []\n",
        "X_test_pca_list = []\n",
        "\n",
        "for n in n_components:\n",
        "    pca = PCA(n_components=n)\n",
        "    X_train_pca = pca.fit_transform(X_train)\n",
        "    X_test_pca = pca.transform(X_test)\n",
        "\n",
        "    X_train_pca_list.append(X_train_pca)\n",
        "    X_test_pca_list.append(X_test_pca)"
      ],
      "metadata": {
        "id": "SV8qTlzp8tWP"
      },
      "execution_count": 4,
      "outputs": []
    },
    {
      "cell_type": "markdown",
      "source": [
        "Train and Evaluate with PCA:"
      ],
      "metadata": {
        "id": "VbG2Vo3l80YY"
      }
    },
    {
      "cell_type": "code",
      "source": [
        "for i, n in enumerate(n_components):\n",
        "    model_pca = LogisticRegression(max_iter=10000)\n",
        "    model_pca.fit(X_train_pca_list[i], y_train)\n",
        "\n",
        "    y_pred_pca = model_pca.predict(X_test_pca_list[i])\n",
        "    accuracy_pca = accuracy_score(y_test, y_pred_pca)\n",
        "    precision_pca = precision_score(y_test, y_pred_pca, average='weighted')\n",
        "    recall_pca = recall_score(y_test, y_pred_pca, average='weighted')\n",
        "\n",
        "    print(f\"\\nPCA with {n} components:\")\n",
        "    print(f\"Accuracy: {accuracy_pca}\")\n",
        "    print(f\"Precision: {precision_pca}\")\n",
        "    print(f\"Recall: {recall_pca}\")"
      ],
      "metadata": {
        "colab": {
          "base_uri": "https://localhost:8080/"
        },
        "id": "qvn6ORe08z2R",
        "outputId": "36aeca2e-669d-460d-8390-96742becbcb7"
      },
      "execution_count": 5,
      "outputs": [
        {
          "output_type": "stream",
          "name": "stdout",
          "text": [
            "\n",
            "PCA with 2 components:\n",
            "Accuracy: 0.6851851851851852\n",
            "Precision: 0.6652503293807642\n",
            "Recall: 0.6851851851851852\n",
            "\n",
            "PCA with 5 components:\n",
            "Accuracy: 1.0\n",
            "Precision: 1.0\n",
            "Recall: 1.0\n",
            "\n",
            "PCA with 10 components:\n",
            "Accuracy: 1.0\n",
            "Precision: 1.0\n",
            "Recall: 1.0\n"
          ]
        }
      ]
    },
    {
      "cell_type": "markdown",
      "source": [
        "**Visualization:**"
      ],
      "metadata": {
        "id": "kfMSkLVv88zs"
      }
    },
    {
      "cell_type": "code",
      "source": [
        "accuracies = []\n",
        "\n",
        "for i, n in enumerate(n_components):\n",
        "    # Create a new instance of LogisticRegression for each iteration\n",
        "    model_pca = LogisticRegression(max_iter=10000)\n",
        "\n",
        "    # Train the model with the corresponding number of PCA components\n",
        "    model_pca.fit(X_train_pca_list[i], y_train)\n",
        "\n",
        "    # Predict on the test set projected onto the same PCA components\n",
        "    y_pred_pca = model_pca.predict(X_test_pca_list[i])\n",
        "\n",
        "    # Calculate accuracy and store it\n",
        "    accuracy_pca = accuracy_score(y_test, y_pred_pca)\n",
        "    accuracies.append(accuracy_pca)\n",
        "\n",
        "    # Print performance metrics for each PCA component count\n",
        "    precision_pca = precision_score(y_test, y_pred_pca, average='weighted')\n",
        "    recall_pca = recall_score(y_test, y_pred_pca, average='weighted')\n",
        "\n",
        "    print(f\"\\nPCA with {n} components:\")\n",
        "    print(f\"Accuracy: {accuracy_pca}\")\n",
        "    print(f\"Precision: {precision_pca}\")\n",
        "    print(f\"Recall: {recall_pca}\")"
      ],
      "metadata": {
        "colab": {
          "base_uri": "https://localhost:8080/"
        },
        "id": "8BNtJhcy86Uo",
        "outputId": "4d1b269a-ab87-44b8-e9f9-e8655b1023ff"
      },
      "execution_count": 6,
      "outputs": [
        {
          "output_type": "stream",
          "name": "stdout",
          "text": [
            "\n",
            "PCA with 2 components:\n",
            "Accuracy: 0.6851851851851852\n",
            "Precision: 0.6652503293807642\n",
            "Recall: 0.6851851851851852\n",
            "\n",
            "PCA with 5 components:\n",
            "Accuracy: 1.0\n",
            "Precision: 1.0\n",
            "Recall: 1.0\n",
            "\n",
            "PCA with 10 components:\n",
            "Accuracy: 1.0\n",
            "Precision: 1.0\n",
            "Recall: 1.0\n"
          ]
        }
      ]
    },
    {
      "cell_type": "code",
      "source": [
        "\n",
        "# Visualization: Plot accuracy against the number of components\n",
        "plt.figure(figsize=(8, 5))\n",
        "plt.plot(n_components, accuracies, marker='o')\n",
        "plt.title('Accuracy vs. Number of PCA Components')\n",
        "plt.xlabel('Number of PCA Components')\n",
        "plt.ylabel('Accuracy')\n",
        "plt.xticks(n_components)\n",
        "plt.grid()\n",
        "plt.show()"
      ],
      "metadata": {
        "colab": {
          "base_uri": "https://localhost:8080/",
          "height": 487
        },
        "id": "QBQFMEgv9A8L",
        "outputId": "f7a3da97-64f5-4bcd-f5a5-06983ce47a2e"
      },
      "execution_count": 7,
      "outputs": [
        {
          "output_type": "display_data",
          "data": {
            "text/plain": [
              "<Figure size 800x500 with 1 Axes>"
            ],
            "image/png": "[encoded data removed]"
          },
          "metadata": {}
        }
      ]
    },
    {
      "cell_type": "code",
      "source": [],
      "metadata": {
        "id": "E4yREboo9DRf"
      },
      "execution_count": null,
      "outputs": []
    }
  ]
}